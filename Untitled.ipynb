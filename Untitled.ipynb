{
 "cells": [
  {
   "cell_type": "markdown",
   "id": "d0bd1192",
   "metadata": {},
   "source": [
    "# SHOWING IMAGE USING MATPLOTLIB"
   ]
  },
  {
   "cell_type": "code",
   "execution_count": null,
   "id": "4800f2b2",
   "metadata": {},
   "outputs": [],
   "source": [
    "import cv2\n",
    "import numpy as np\n",
    "\n",
    "#read an image\n",
    "img = cv2.imread(r'C:\\Users\\hp\\Desktop\\Face Recognition\\messi.jpg') # in place of r we can also write '\\' as '\\\\' . This will\n",
    "                                                                    # also resolve the problem of not finding the image location\n",
    "\n",
    "from matplotlib import pyplot as plt\n",
    "plt.imshow(img)\n",
    "plt.show()\n",
    "\n",
    "newimg = cv2.cvtColor(img , cv2.COLOR_BGR2RGB) # convert image pixels from BGR format to RGB format \n",
    "plt.imshow(newimg)\n",
    "plt.show()\n",
    "\n",
    "print(img.dtype)\n",
    "\n",
    "print(newimg)"
   ]
  },
  {
   "cell_type": "markdown",
   "id": "95f054ca",
   "metadata": {},
   "source": [
    "# SHOWING IMAGE USING OPEN CV"
   ]
  },
  {
   "cell_type": "code",
   "execution_count": null,
   "id": "52af615f",
   "metadata": {},
   "outputs": [],
   "source": [
    "import cv2\n",
    "img = cv2.imread(r'C:\\Users\\hp\\Desktop\\Face Recognition\\messi.jpg')  # r helps understand the interpreter that '\\' is a literal \n",
    "                                                                     # character not an escape character\n",
    "cv2.imshow(\"Image Of Messi\" , img)\n",
    "cv2.waitKey(0) # 0 means window will be open forever . Time calculated in milliseconds\n",
    "cv2.destroyAllWindows()"
   ]
  },
  {
   "cell_type": "markdown",
   "id": "5fb45788",
   "metadata": {},
   "source": [
    "# READ A VIDEO STREAM FROM CAMERA (FRAME BY FRAME)"
   ]
  },
  {
   "cell_type": "code",
   "execution_count": 2,
   "id": "31d37ca1",
   "metadata": {},
   "outputs": [],
   "source": [
    "import cv2\n",
    "cap = cv2.VideoCapture(0)  # 0 here is id of device . If it is 0 means that it is default webcam\n",
    "while True:\n",
    "    ret,frame = cap.read()  # ret is a returned boolean number and frame is just an image\n",
    "    gray_frame = cv2.cvtColor(frame , cv2.COLOR_BGR2GRAY)\n",
    "    \n",
    "    faceCascade = cv2.CascadeClassifier(\"haarcascade-frontalface-default.xml\")\n",
    "    \n",
    "    if ret == False:\n",
    "        continue\n",
    "    \n",
    "    faces = faceCascade.detectMultiScale(frame , 1.3 , 5) # here 1.3 is scaling factor and 5 is number of neighbours\n",
    "    \n",
    "    for (x,y,w,h) in faces:\n",
    "        cv2.rectangle( frame , (x,y) , (x+w,y+h) , (255,0,0) , 2 )\n",
    "    \n",
    "    cv2.imshow(\"Captured Video\" , frame)\n",
    "    #cv2.imshow(\"Gray Frame Captured\" , gray_frame)\n",
    "    \n",
    "    #wait for user input . Suppose user input 'q' then we will stop the loop\n",
    "    key_pressed = cv2.waitKey(1) & 0xFF  #cv2.waitKey return a 32 bit integer and 0xFF return a 8-bit number with all 8-bit as 1\n",
    "                                         #the bitwise and of these 2 numbers will retuen a 8-bit integer to variable key_pressed \n",
    "    if key_pressed == ord('q'):\n",
    "        break\n",
    "cap.release()\n",
    "cv2.destroyAllWindows()\n"
   ]
  }
 ],
 "metadata": {
  "kernelspec": {
   "display_name": "Python 3 (ipykernel)",
   "language": "python",
   "name": "python3"
  },
  "language_info": {
   "codemirror_mode": {
    "name": "ipython",
    "version": 3
   },
   "file_extension": ".py",
   "mimetype": "text/x-python",
   "name": "python",
   "nbconvert_exporter": "python",
   "pygments_lexer": "ipython3",
   "version": "3.9.13"
  }
 },
 "nbformat": 4,
 "nbformat_minor": 5
}
